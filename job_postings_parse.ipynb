{
 "cells": [
  {
   "cell_type": "code",
   "execution_count": 1,
   "metadata": {},
   "outputs": [],
   "source": [
    "# Loading files from the directory:\n",
    "directory_in_str = 'data/html_job_postings'"
   ]
  },
  {
   "cell_type": "code",
   "execution_count": 2,
   "metadata": {},
   "outputs": [
    {
     "data": {
      "text/html": [
       "<div>\n",
       "<style scoped>\n",
       "    .dataframe tbody tr th:only-of-type {\n",
       "        vertical-align: middle;\n",
       "    }\n",
       "\n",
       "    .dataframe tbody tr th {\n",
       "        vertical-align: top;\n",
       "    }\n",
       "\n",
       "    .dataframe thead th {\n",
       "        text-align: right;\n",
       "    }\n",
       "</style>\n",
       "<table border=\"1\" class=\"dataframe\">\n",
       "  <thead>\n",
       "    <tr style=\"text-align: right;\">\n",
       "      <th></th>\n",
       "      <th>filename</th>\n",
       "      <th>file_content</th>\n",
       "    </tr>\n",
       "  </thead>\n",
       "  <tbody>\n",
       "    <tr>\n",
       "      <th>0</th>\n",
       "      <td>188be042a58efa2c_fccid.html</td>\n",
       "      <td>&lt;html&gt;&lt;head&gt;&lt;title&gt;Data Science Intern - New Y...</td>\n",
       "    </tr>\n",
       "    <tr>\n",
       "      <th>1</th>\n",
       "      <td>544e4e237037a383_fccid.html</td>\n",
       "      <td>&lt;html&gt;&lt;head&gt;&lt;title&gt;Senior Data Scientist - Men...</td>\n",
       "    </tr>\n",
       "    <tr>\n",
       "      <th>2</th>\n",
       "      <td>18eba1da4742b7cc_fccid.html</td>\n",
       "      <td>&lt;html&gt;&lt;head&gt;&lt;title&gt;Regional Sales Manager-5 - ...</td>\n",
       "    </tr>\n",
       "    <tr>\n",
       "      <th>3</th>\n",
       "      <td>4cfa9dd5ae3993e5_fccid.html</td>\n",
       "      <td>&lt;html&gt;&lt;head&gt;&lt;title&gt;Applied Research Scientist,...</td>\n",
       "    </tr>\n",
       "    <tr>\n",
       "      <th>4</th>\n",
       "      <td>2afdf54c472105e8_fccid.html</td>\n",
       "      <td>&lt;html&gt;&lt;head&gt;&lt;title&gt;Data Scientist - San Franci...</td>\n",
       "    </tr>\n",
       "    <tr>\n",
       "      <th>...</th>\n",
       "      <td>...</td>\n",
       "      <td>...</td>\n",
       "    </tr>\n",
       "    <tr>\n",
       "      <th>1332</th>\n",
       "      <td>a973456cb359e019_fccid.html</td>\n",
       "      <td>&lt;html&gt;&lt;head&gt;&lt;title&gt;CP&amp;S Data and Insights Anal...</td>\n",
       "    </tr>\n",
       "    <tr>\n",
       "      <th>1333</th>\n",
       "      <td>95e29f795e427bad_fccid.html</td>\n",
       "      <td>&lt;html&gt;&lt;head&gt;&lt;title&gt;Data Scientist - AI-driven ...</td>\n",
       "    </tr>\n",
       "    <tr>\n",
       "      <th>1334</th>\n",
       "      <td>b9eed2e39391c870_fccid.html</td>\n",
       "      <td>&lt;html&gt;&lt;head&gt;&lt;title&gt;Data Scientist - San Franci...</td>\n",
       "    </tr>\n",
       "    <tr>\n",
       "      <th>1335</th>\n",
       "      <td>23ae8d19ffde4231_fccid.html</td>\n",
       "      <td>&lt;html&gt;&lt;head&gt;&lt;title&gt;Senior Consulting Data Anal...</td>\n",
       "    </tr>\n",
       "    <tr>\n",
       "      <th>1336</th>\n",
       "      <td>_p.html</td>\n",
       "      <td>&lt;html&gt;&lt;head&gt;&lt;title&gt;Director, Data Scientist, N...</td>\n",
       "    </tr>\n",
       "  </tbody>\n",
       "</table>\n",
       "<p>1337 rows × 2 columns</p>\n",
       "</div>"
      ],
      "text/plain": [
       "                         filename  \\\n",
       "0     188be042a58efa2c_fccid.html   \n",
       "1     544e4e237037a383_fccid.html   \n",
       "2     18eba1da4742b7cc_fccid.html   \n",
       "3     4cfa9dd5ae3993e5_fccid.html   \n",
       "4     2afdf54c472105e8_fccid.html   \n",
       "...                           ...   \n",
       "1332  a973456cb359e019_fccid.html   \n",
       "1333  95e29f795e427bad_fccid.html   \n",
       "1334  b9eed2e39391c870_fccid.html   \n",
       "1335  23ae8d19ffde4231_fccid.html   \n",
       "1336                      _p.html   \n",
       "\n",
       "                                           file_content  \n",
       "0     <html><head><title>Data Science Intern - New Y...  \n",
       "1     <html><head><title>Senior Data Scientist - Men...  \n",
       "2     <html><head><title>Regional Sales Manager-5 - ...  \n",
       "3     <html><head><title>Applied Research Scientist,...  \n",
       "4     <html><head><title>Data Scientist - San Franci...  \n",
       "...                                                 ...  \n",
       "1332  <html><head><title>CP&S Data and Insights Anal...  \n",
       "1333  <html><head><title>Data Scientist - AI-driven ...  \n",
       "1334  <html><head><title>Data Scientist - San Franci...  \n",
       "1335  <html><head><title>Senior Consulting Data Anal...  \n",
       "1336  <html><head><title>Director, Data Scientist, N...  \n",
       "\n",
       "[1337 rows x 2 columns]"
      ]
     },
     "execution_count": 2,
     "metadata": {},
     "output_type": "execute_result"
    }
   ],
   "source": [
    "import os\n",
    "from pathlib import Path\n",
    "import pandas as pd\n",
    "\n",
    "directory = os.fsencode(directory_in_str)\n",
    "\n",
    "file_names = []\n",
    "files = []\n",
    "for file in os.listdir(directory):\n",
    "    filename = os.fsdecode(file)\n",
    "    if filename.endswith(\"html\"): \n",
    "        #print(filename)\n",
    "        txt = Path(directory_in_str+\"/\"+filename).read_text()\n",
    "        #print(txt)\n",
    "        #break\n",
    "        file_names.append(filename)\n",
    "        files.append(txt)\n",
    "    else:\n",
    "        continue\n",
    "data = {'filename':  file_names,\n",
    "        'file_content': files,\n",
    "        }\n",
    "df = pd.DataFrame (data, columns = ['filename', 'file_content'])\n",
    "df\n",
    "\n"
   ]
  },
  {
   "cell_type": "code",
   "execution_count": 3,
   "metadata": {},
   "outputs": [],
   "source": [
    "df.drop_duplicates(subset =\"file_content\", keep = False, inplace = True)"
   ]
  },
  {
   "cell_type": "code",
   "execution_count": 4,
   "metadata": {},
   "outputs": [
    {
     "data": {
      "text/html": [
       "<div>\n",
       "<style scoped>\n",
       "    .dataframe tbody tr th:only-of-type {\n",
       "        vertical-align: middle;\n",
       "    }\n",
       "\n",
       "    .dataframe tbody tr th {\n",
       "        vertical-align: top;\n",
       "    }\n",
       "\n",
       "    .dataframe thead th {\n",
       "        text-align: right;\n",
       "    }\n",
       "</style>\n",
       "<table border=\"1\" class=\"dataframe\">\n",
       "  <thead>\n",
       "    <tr style=\"text-align: right;\">\n",
       "      <th></th>\n",
       "      <th>filename</th>\n",
       "      <th>file_content</th>\n",
       "    </tr>\n",
       "  </thead>\n",
       "  <tbody>\n",
       "    <tr>\n",
       "      <th>0</th>\n",
       "      <td>188be042a58efa2c_fccid.html</td>\n",
       "      <td>&lt;html&gt;&lt;head&gt;&lt;title&gt;Data Science Intern - New Y...</td>\n",
       "    </tr>\n",
       "    <tr>\n",
       "      <th>1</th>\n",
       "      <td>544e4e237037a383_fccid.html</td>\n",
       "      <td>&lt;html&gt;&lt;head&gt;&lt;title&gt;Senior Data Scientist - Men...</td>\n",
       "    </tr>\n",
       "    <tr>\n",
       "      <th>2</th>\n",
       "      <td>18eba1da4742b7cc_fccid.html</td>\n",
       "      <td>&lt;html&gt;&lt;head&gt;&lt;title&gt;Regional Sales Manager-5 - ...</td>\n",
       "    </tr>\n",
       "    <tr>\n",
       "      <th>3</th>\n",
       "      <td>4cfa9dd5ae3993e5_fccid.html</td>\n",
       "      <td>&lt;html&gt;&lt;head&gt;&lt;title&gt;Applied Research Scientist,...</td>\n",
       "    </tr>\n",
       "    <tr>\n",
       "      <th>4</th>\n",
       "      <td>2afdf54c472105e8_fccid.html</td>\n",
       "      <td>&lt;html&gt;&lt;head&gt;&lt;title&gt;Data Scientist - San Franci...</td>\n",
       "    </tr>\n",
       "    <tr>\n",
       "      <th>...</th>\n",
       "      <td>...</td>\n",
       "      <td>...</td>\n",
       "    </tr>\n",
       "    <tr>\n",
       "      <th>1331</th>\n",
       "      <td>16b0b64f107e8e9d_fccid.html</td>\n",
       "      <td>&lt;html&gt;&lt;head&gt;&lt;title&gt;Data Engineer – Systems and...</td>\n",
       "    </tr>\n",
       "    <tr>\n",
       "      <th>1332</th>\n",
       "      <td>a973456cb359e019_fccid.html</td>\n",
       "      <td>&lt;html&gt;&lt;head&gt;&lt;title&gt;CP&amp;S Data and Insights Anal...</td>\n",
       "    </tr>\n",
       "    <tr>\n",
       "      <th>1333</th>\n",
       "      <td>95e29f795e427bad_fccid.html</td>\n",
       "      <td>&lt;html&gt;&lt;head&gt;&lt;title&gt;Data Scientist - AI-driven ...</td>\n",
       "    </tr>\n",
       "    <tr>\n",
       "      <th>1334</th>\n",
       "      <td>b9eed2e39391c870_fccid.html</td>\n",
       "      <td>&lt;html&gt;&lt;head&gt;&lt;title&gt;Data Scientist - San Franci...</td>\n",
       "    </tr>\n",
       "    <tr>\n",
       "      <th>1335</th>\n",
       "      <td>23ae8d19ffde4231_fccid.html</td>\n",
       "      <td>&lt;html&gt;&lt;head&gt;&lt;title&gt;Senior Consulting Data Anal...</td>\n",
       "    </tr>\n",
       "  </tbody>\n",
       "</table>\n",
       "<p>1321 rows × 2 columns</p>\n",
       "</div>"
      ],
      "text/plain": [
       "                         filename  \\\n",
       "0     188be042a58efa2c_fccid.html   \n",
       "1     544e4e237037a383_fccid.html   \n",
       "2     18eba1da4742b7cc_fccid.html   \n",
       "3     4cfa9dd5ae3993e5_fccid.html   \n",
       "4     2afdf54c472105e8_fccid.html   \n",
       "...                           ...   \n",
       "1331  16b0b64f107e8e9d_fccid.html   \n",
       "1332  a973456cb359e019_fccid.html   \n",
       "1333  95e29f795e427bad_fccid.html   \n",
       "1334  b9eed2e39391c870_fccid.html   \n",
       "1335  23ae8d19ffde4231_fccid.html   \n",
       "\n",
       "                                           file_content  \n",
       "0     <html><head><title>Data Science Intern - New Y...  \n",
       "1     <html><head><title>Senior Data Scientist - Men...  \n",
       "2     <html><head><title>Regional Sales Manager-5 - ...  \n",
       "3     <html><head><title>Applied Research Scientist,...  \n",
       "4     <html><head><title>Data Scientist - San Franci...  \n",
       "...                                                 ...  \n",
       "1331  <html><head><title>Data Engineer – Systems and...  \n",
       "1332  <html><head><title>CP&S Data and Insights Anal...  \n",
       "1333  <html><head><title>Data Scientist - AI-driven ...  \n",
       "1334  <html><head><title>Data Scientist - San Franci...  \n",
       "1335  <html><head><title>Senior Consulting Data Anal...  \n",
       "\n",
       "[1321 rows x 2 columns]"
      ]
     },
     "execution_count": 4,
     "metadata": {},
     "output_type": "execute_result"
    }
   ],
   "source": [
    "df"
   ]
  },
  {
   "cell_type": "code",
   "execution_count": 5,
   "metadata": {},
   "outputs": [],
   "source": [
    "import qgrid"
   ]
  },
  {
   "cell_type": "code",
   "execution_count": 6,
   "metadata": {
    "scrolled": true
   },
   "outputs": [
    {
     "data": {
      "application/vnd.jupyter.widget-view+json": {
       "model_id": "7656b7d35491443e9b5f8d5a682c31d6",
       "version_major": 2,
       "version_minor": 0
      },
      "text/plain": [
       "QgridWidget(grid_options={'fullWidthRows': True, 'syncColumnCellResize': True, 'forceFitColumns': True, 'defau…"
      ]
     },
     "metadata": {},
     "output_type": "display_data"
    }
   ],
   "source": [
    "qgrid.show_grid(df)"
   ]
  },
  {
   "cell_type": "code",
   "execution_count": 7,
   "metadata": {},
   "outputs": [],
   "source": [
    "#df.to_pickle(\"./job_postings.pkl\")"
   ]
  },
  {
   "cell_type": "code",
   "execution_count": 23,
   "metadata": {
    "scrolled": true
   },
   "outputs": [
    {
     "data": {
      "application/vnd.jupyter.widget-view+json": {
       "model_id": "0e9c8cc99cf54b58bb3a60c59aaec3c8",
       "version_major": 2,
       "version_minor": 0
      },
      "text/plain": [
       "QgridWidget(grid_options={'fullWidthRows': True, 'syncColumnCellResize': True, 'forceFitColumns': True, 'defau…"
      ]
     },
     "metadata": {},
     "output_type": "display_data"
    }
   ],
   "source": [
    "# Parsing all the html files and adding columns to the dataframe\n",
    "from bs4 import BeautifulSoup\n",
    "\n",
    "title        = []\n",
    "body         = []\n",
    "bullets      = []\n",
    "requirements = []\n",
    "links        = []\n",
    "\n",
    "remove_new_lines = lambda x: [i.replace('\\n','') for i in x]\n",
    "\n",
    "for index, row in df.iterrows():\n",
    "    soup = BeautifulSoup(row[\"file_content\"])\n",
    "    title.append(soup.title.text)\n",
    "    body.append(soup.body)\n",
    "    post_links = []\n",
    "    for link in soup.find_all('a'):\n",
    "        post_links.append(link.get('href'))\n",
    "        print(link.get('href'))\n",
    "    links.append(post_links)\n",
    "    bullets.append([''.join(remove_new_lines(bullet.text)) for bullet in  soup.find_all('li')])\n",
    "    #print(soup.title.text)\n",
    "    #break\n",
    "df['title'] = title\n",
    "df['body']  = body\n",
    "df['links'] = links\n",
    "df['bullets'] = bullets\n",
    "\n",
    "qgrid.show_grid(df)\n"
   ]
  },
  {
   "cell_type": "code",
   "execution_count": 25,
   "metadata": {},
   "outputs": [
    {
     "data": {
      "text/plain": [
       "[\"Develop and deploy machine learning/deep learning solutions to discover and predict trends in customer behavior, propensity to buy and respond to marketing campaigns, SaaS and perpetual license customers' journey experiences, product development quality, just to name a few.\",\n",
       " 'Tackling highly challenging but interesting end-to-end data problems, from data cleaning to feature extractions, to model design and selections, validation and test, and productization of data science solutions in iterations.',\n",
       " 'Finding patterns and uncovering business insights within structured and unstructured data',\n",
       " 'Working side-by-side with technical and business leaders, business partner, and stakeholders to understand, process map, and solution complex business problems through the lens of data science.',\n",
       " 'Unlocking repeatable patterns to predict, discover, and distill complex information into actionable improvement',\n",
       " 'Developing prescriptive recommendation engines to drive business actions and decisions',\n",
       " 'Challenging current best thinking, test theories, evaluate data science and machine learning concepts and iterate rapidly',\n",
       " 'Adhere to our innovative culture within EDA and VMware through continuous researching and prototyping state-of-the-art machine learning / deep learning algorithm to apply to our business problems',\n",
       " 'Masters in Computer Science, Engineering, Statistics, Applied Math, or similar disciplines',\n",
       " 'Solid fundamentals, knowledge of supervised, unsupervised, reinforcement learning machine learning and deep learning algorithms, such as classifiers, cluster analysis, dimension reduction, regression, CNN, RNN, DQN, temporal difference methods, sequence modeling, attention models, transformers, probability theory, algorithm design and theory of computation, information retrieval',\n",
       " 'Experienced in at least one of the machine learning frameworks - Keras, Tensorflow, PyTorch, etc, as well as programming, visualization, and statistical tools such as R, JMP, SAS, Tableau, Python, Perl, Java/C++',\n",
       " 'Knowledgeable in natural language processing techniques and text analytics (e.g. word2vec, doc2vec, attention, LDA)',\n",
       " 'Entrepreneurial spirited and possess strong communication and collaboration skills; ability to master new technologies and clearly communicate results to technical and non-technical audience',\n",
       " 'Passion in reaching a deep understanding of business problems and solving them by applying machine learning solutions',\n",
       " 'Proficiency in big data technologies such as Hadoop, BigQuery, MapReduce, etc, and parallelization tools in enterprise Big Data Platform stack, technologies, and ecosystem is a strong plus']"
      ]
     },
     "execution_count": 25,
     "metadata": {},
     "output_type": "execute_result"
    }
   ],
   "source": [
    "df[\"bullets\"][6]"
   ]
  },
  {
   "cell_type": "code",
   "execution_count": null,
   "metadata": {},
   "outputs": [],
   "source": []
  }
 ],
 "metadata": {
  "kernelspec": {
   "display_name": "Python 3",
   "language": "python",
   "name": "python3"
  },
  "language_info": {
   "codemirror_mode": {
    "name": "ipython",
    "version": 3
   },
   "file_extension": ".py",
   "mimetype": "text/x-python",
   "name": "python",
   "nbconvert_exporter": "python",
   "pygments_lexer": "ipython3",
   "version": "3.7.6"
  }
 },
 "nbformat": 4,
 "nbformat_minor": 4
}
